{
 "cells": [
  {
   "cell_type": "markdown",
   "metadata": {},
   "source": [
    "# Exploring the Fibonacci Series using coding"
   ]
  },
  {
   "cell_type": "markdown",
   "metadata": {},
   "source": [
    "## Using Python 2 as part of a Jupyter Notebook"
   ]
  },
  {
   "cell_type": "markdown",
   "metadata": {},
   "source": [
    "### Users are able to interact with the content and make changes"
   ]
  },
  {
   "cell_type": "markdown",
   "metadata": {},
   "source": [
    "As well as being able to enter, edit and execute Python code, we can make comments on the lesson, and include accurate mathematical typesetting using LaTeX commands.\n",
    "\n",
    "The FS is often introduced as the first non-trivial series (without constant different or ratio between terms) and there are many storis about rabbits and sunflower heads to keep youngsters entertained.\n",
    "\n",
    "In this class we are going to look at how to generate terms in the FS - either writing a given number of terms, or writing all the terms up to a stated upper bound."
   ]
  },
  {
   "cell_type": "markdown",
   "metadata": {},
   "source": [
    "Let us begin with starting terms 1 and 1, and generate subsequent terms by adding the two previous."
   ]
  },
  {
   "cell_type": "code",
   "execution_count": 3,
   "metadata": {
    "collapsed": false
   },
   "outputs": [
    {
     "name": "stdout",
     "output_type": "stream",
     "text": [
      "[1, 1, 2, 3, 5, 8, 13, 21, 34, 55]\n"
     ]
    }
   ],
   "source": [
    "# Call subsequent pairs of terms a and b, in that order\n",
    "a = 1\n",
    "b = 1\n",
    "Fib = [a,b]\n",
    "# Choose here the final number of terms we want in our list\n",
    "n = 10\n",
    "# The critical while loop - keep going until we have enough\n",
    "while len(Fib) < n:\n",
    "    # Now give code to generate next term, and attach it to the list\n",
    "    c = a+b\n",
    "    Fib.append(c)\n",
    "    # Now we need to re-label a and b ready for the next run through - a,b,c are 3 consecutive terms\n",
    "    a = b\n",
    "    b = c\n",
    "# Finally we need to putput what is in the list of Fib numbers\n",
    "print(Fib)"
   ]
  },
  {
   "cell_type": "markdown",
   "metadata": {},
   "source": [
    "You might find the programme easier to follow without my comments:"
   ]
  },
  {
   "cell_type": "code",
   "execution_count": 9,
   "metadata": {
    "collapsed": false
   },
   "outputs": [
    {
     "name": "stdout",
     "output_type": "stream",
     "text": [
      "[1, 1, 2, 3, 5, 8, 13, 21, 34, 55]\n"
     ]
    }
   ],
   "source": [
    "a = 1\n",
    "b = 1\n",
    "Fib = [a,b]\n",
    "n = 10\n",
    "while len(Fib) < n:\n",
    "    c = a+b\n",
    "    Fib.append(c)\n",
    "    a = b\n",
    "    b = c\n",
    "print(Fib)"
   ]
  },
  {
   "cell_type": "markdown",
   "metadata": {},
   "source": [
    "Experiment with the above code - change how many terms are calculated, and what the starting points are. For which starting points will the series eventually settle into the standard one?\n",
    "\n",
    "Let's try to change the code now, and instead caculate all the Fib numbers (in the standard series) up to a given value, say 100. Can you see how to make changes to the programme above. A solution is below."
   ]
  },
  {
   "cell_type": "code",
   "execution_count": 10,
   "metadata": {
    "collapsed": false
   },
   "outputs": [
    {
     "name": "stdout",
     "output_type": "stream",
     "text": [
      "[1, 1, 2, 3, 5, 8, 13, 21, 34, 55, 89]\n"
     ]
    }
   ],
   "source": [
    "a = 1\n",
    "b = 1\n",
    "Fib = [a,b]\n",
    "n = 100\n",
    "while b <= n:\n",
    "    c = a+b\n",
    "    if c <= n:\n",
    "        # Extra check needed as c might now be too big\n",
    "        Fib.append(c)\n",
    "    a = b\n",
    "    b = c\n",
    "print(Fib)"
   ]
  },
  {
   "cell_type": "code",
   "execution_count": null,
   "metadata": {
    "collapsed": true
   },
   "outputs": [],
   "source": []
  }
 ],
 "metadata": {
  "kernelspec": {
   "display_name": "Python 2",
   "language": "python",
   "name": "python2"
  },
  "language_info": {
   "codemirror_mode": {
    "name": "ipython",
    "version": 2
   },
   "file_extension": ".py",
   "mimetype": "text/x-python",
   "name": "python",
   "nbconvert_exporter": "python",
   "pygments_lexer": "ipython2",
   "version": "2.7.10"
  }
 },
 "nbformat": 4,
 "nbformat_minor": 0
}
